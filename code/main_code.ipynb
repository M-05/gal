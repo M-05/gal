{
 "cells": [
  {
   "cell_type": "markdown",
   "metadata": {},
   "source": [
    "# AIFFELTHON Team GAL! Code Base\n",
    "## Project \\<<In The Name of Justice\\>>"
   ]
  },
  {
   "cell_type": "markdown",
   "metadata": {},
   "source": [
    "Team : 박수경, 이소명, 이태경, 정지영  \n",
    "\n",
    "Goal : 대화문을 일상 대화문과 부적절한 상황의 대화문으로 분류한다. 부적절한 상황은 명시적인 언어폭력이 나타나는 상황뿐 아니라 맥락을 고려한 암묵적인 위협 상황까지 포함한다. 특히 암묵적인 언어폭력, 위협상황에 해당하는 대화문을 ‘협박', '갈취', '직장 내 괴롭힘', '기타 괴롭힘'의 세부 레이블로 분류하여 메신저, SNS, 커뮤니티 상에서 일어나는 부적절한 상황을 탐지하는 서비스에 활용할 수 있는 모델을 설계한다. "
   ]
  },
  {
   "cell_type": "markdown",
   "metadata": {},
   "source": [
    "## STEP 1. 작업환경 구성하기"
   ]
  },
  {
   "cell_type": "code",
   "execution_count": null,
   "metadata": {},
   "outputs": [],
   "source": [
    "import pandas as pd\n",
    "import numpy as np\n",
    "\n",
    "import tensorflow as tf\n",
    "import keras as keras\n",
    "from keras.models import load_model\n",
    "\n",
    "import encoding_korbert as enc\n",
    "import cleaning_and_normalizing as cleandnor"
   ]
  },
  {
   "attachments": {},
   "cell_type": "markdown",
   "metadata": {},
   "source": [
    "## STEP 2. 데이터 인코딩"
   ]
  },
  {
   "cell_type": "code",
   "execution_count": null,
   "metadata": {},
   "outputs": [],
   "source": [
    "input_path = '<깃허브리포지토리의 path>' + \"/input.txt\" #local_host? git 서버?\n",
    "input_df = enc.make_table(input_path)"
   ]
  },
  {
   "cell_type": "code",
   "execution_count": null,
   "metadata": {},
   "outputs": [],
   "source": [
    "input_df = cleandnor.preprocess_input(input_df) #전처리"
   ]
  },
  {
   "cell_type": "code",
   "execution_count": null,
   "metadata": {},
   "outputs": [],
   "source": [
    "input_x, input_y = enc.load_data(input_df) #입력할 데이터 준비 완료"
   ]
  },
  {
   "cell_type": "markdown",
   "metadata": {},
   "source": [
    "## STEP 3. Ensembled model architecting"
   ]
  },
  {
   "cell_type": "code",
   "execution_count": null,
   "metadata": {},
   "outputs": [],
   "source": [
    "# 모델 로드\n",
    "model_1 = tf.keras.models.load_model('./saved/model_1.h5')\n",
    "model_2 = tf.keras.models.load_model('./saved/model_2.h5')\n",
    "\n",
    "# 새로운 모델 생성\n",
    "def model_ens(x, threshold = (0.4, 0.6)):\n",
    "    p1 = model_1(x)\n",
    "    # threshold 범위 설정\n",
    "    threshold_min = threshold[0]\n",
    "    threshold_max = threshold[1]\n",
    "    # p1이 threshold 범위 안에 있는지 확인\n",
    "\n",
    "    if p1 >= threshold_min and p1 <= threshold_max: #imp\n",
    "        \n",
    "        p2 = model_2(x)\n",
    "        #p2는 model_2가 가진 클래스 개수가 len 인 확률 벡터.\n",
    "        \n",
    "        # p3 = np.add(p2, 2) #p3 요소들의 범위는 2=<p3=<3 가 된다. (떨어뜨려놓기) \n",
    "        label = np.argmax(p2) + 2 \n",
    "        \n",
    "        return p1, np.max(p2), label # 결국 label 범위는 2, 3, 4..,n 이 됨\n",
    "    \n",
    "    else:\n",
    "\n",
    "        label = np.argmax(p1)\n",
    "        return p1, None, label # label은 0, 1\n"
   ]
  },
  {
   "cell_type": "code",
   "execution_count": null,
   "metadata": {},
   "outputs": [],
   "source": [
    "def predict_class(x, dict:dict) -> str: #dict는 레이블 사전 입력하기.\n",
    "    \n",
    "    vector = model_ens(x)\n",
    "    label = vector[2]\n",
    "    predicted_class = dict[label]\n",
    "    \n",
    "    print('이 대화문은 ',predicted_class,'입니다.')\n"
   ]
  },
  {
   "cell_type": "code",
   "execution_count": null,
   "metadata": {},
   "outputs": [],
   "source": [
    "class_dict = {0: '명시적인 언어폭력',\\\n",
    "                1: '일상적인 대화문',\\\n",
    "                2: '암묵적인 갈취 대화',\\\n",
    "                3: '암묵적인 기타 괴롭힘 대화',\\\n",
    "                4: '암묵적인 직장 내 괴롭힘 대화',\\\n",
    "                5: '암묵적인 협박 대화'}"
   ]
  },
  {
   "cell_type": "markdown",
   "metadata": {},
   "source": [
    "## STEP 4. Show prediction over the web  \n",
    "인코딩된 input data를 model_ens로 예측하여 그 결과를 웹을 통해 보여준다.  \n",
    "(웹하고 join 하는 부분 해협!!) "
   ]
  },
  {
   "cell_type": "code",
   "execution_count": null,
   "metadata": {},
   "outputs": [],
   "source": [
    "predict_class(input_x,class_dict)"
   ]
  }
 ],
 "metadata": {
  "kernelspec": {
   "display_name": "Python39_tf",
   "language": "python",
   "name": "python3"
  },
  "language_info": {
   "codemirror_mode": {
    "name": "ipython",
    "version": 3
   },
   "file_extension": ".py",
   "mimetype": "text/x-python",
   "name": "python",
   "nbconvert_exporter": "python",
   "pygments_lexer": "ipython3",
   "version": "3.9.15"
  },
  "orig_nbformat": 4
 },
 "nbformat": 4,
 "nbformat_minor": 2
}
