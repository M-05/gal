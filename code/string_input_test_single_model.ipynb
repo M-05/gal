{
 "cells": [
  {
   "cell_type": "code",
   "execution_count": 1,
   "id": "874f57fb",
   "metadata": {},
   "outputs": [
    {
     "name": "stdout",
     "output_type": "stream",
     "text": [
      "Requirement already satisfied: keras-bert in /opt/conda/lib/python3.9/site-packages (0.89.0)\n",
      "Requirement already satisfied: numpy in /opt/conda/lib/python3.9/site-packages (from keras-bert) (1.21.4)\n",
      "Requirement already satisfied: keras-transformer==0.40.0 in /opt/conda/lib/python3.9/site-packages (from keras-bert) (0.40.0)\n",
      "Requirement already satisfied: keras-pos-embd==0.13.0 in /opt/conda/lib/python3.9/site-packages (from keras-transformer==0.40.0->keras-bert) (0.13.0)\n",
      "Requirement already satisfied: keras-position-wise-feed-forward==0.8.0 in /opt/conda/lib/python3.9/site-packages (from keras-transformer==0.40.0->keras-bert) (0.8.0)\n",
      "Requirement already satisfied: keras-multi-head==0.29.0 in /opt/conda/lib/python3.9/site-packages (from keras-transformer==0.40.0->keras-bert) (0.29.0)\n",
      "Requirement already satisfied: keras-layer-normalization==0.16.0 in /opt/conda/lib/python3.9/site-packages (from keras-transformer==0.40.0->keras-bert) (0.16.0)\n",
      "Requirement already satisfied: keras-embed-sim==0.10.0 in /opt/conda/lib/python3.9/site-packages (from keras-transformer==0.40.0->keras-bert) (0.10.0)\n",
      "Requirement already satisfied: keras-self-attention==0.51.0 in /opt/conda/lib/python3.9/site-packages (from keras-multi-head==0.29.0->keras-transformer==0.40.0->keras-bert) (0.51.0)\n",
      "\u001b[33mWARNING: Running pip as the 'root' user can result in broken permissions and conflicting behaviour with the system package manager. It is recommended to use a virtual environment instead: https://pip.pypa.io/warnings/venv\u001b[0m\n",
      "Requirement already satisfied: keras-radam in /opt/conda/lib/python3.9/site-packages (0.15.0)\n",
      "Requirement already satisfied: numpy in /opt/conda/lib/python3.9/site-packages (from keras-radam) (1.21.4)\n",
      "Requirement already satisfied: Keras in /opt/conda/lib/python3.9/site-packages (from keras-radam) (2.6.0)\n",
      "\u001b[33mWARNING: Running pip as the 'root' user can result in broken permissions and conflicting behaviour with the system package manager. It is recommended to use a virtual environment instead: https://pip.pypa.io/warnings/venv\u001b[0m\n"
     ]
    }
   ],
   "source": [
    "import pandas as pd\n",
    "import numpy as np\n",
    "import os\n",
    "\n",
    "import tensorflow as tf\n",
    "import keras as keras\n",
    "from keras.models import load_model\n",
    "\n",
    "import encoding_korbert as enc\n",
    "import cleaning_and_normalizing as cleandnor"
   ]
  },
  {
   "cell_type": "code",
   "execution_count": 2,
   "id": "43eebc9b",
   "metadata": {},
   "outputs": [],
   "source": [
    "from keras_radam import RAdam\n",
    "from keras_radam.training import RAdamOptimizer\n",
    "\n",
    "from keras_bert import load_trained_model_from_checkpoint, load_vocabulary\n",
    "from keras_bert import Tokenizer\n",
    "from keras_bert import AdamWarmup, calc_train_steps\n"
   ]
  },
  {
   "cell_type": "code",
   "execution_count": 3,
   "id": "71a3edc2",
   "metadata": {},
   "outputs": [],
   "source": [
    "def encoding_txt_for_model(input_path):\n",
    "\n",
    "#     input_path= './trials/input.txt'\n",
    "    input_df = enc.make_table(input_path)\n",
    "    input_df['conversation']= ''.join(input_df['conversation'][0])\n",
    "    input_x, input_y = enc.load_data(input_df)\n",
    "    \n",
    "    return input_x"
   ]
  },
  {
   "cell_type": "code",
   "execution_count": 4,
   "id": "9b5e44bf",
   "metadata": {},
   "outputs": [],
   "source": [
    "def string_to_input(str):\n",
    "    df =  pd.DataFrame(index=[0], columns=['idx', 'class','conversation'])\n",
    "    df['idx'] =0\n",
    "    df['conversation'] = str\n",
    "    \n",
    "    input_x, input_y = enc.load_data(df)\n",
    "\n",
    "    return input_x\n"
   ]
  },
  {
   "cell_type": "code",
   "execution_count": 5,
   "id": "bd6bdd3e",
   "metadata": {},
   "outputs": [],
   "source": [
    "#토큰 임베딩 불러오기\n",
    "pretrained_path =\"./bert\" #상대경로 잡기\n",
    "\n",
    "SEQ_LEN = enc.SEQ_LEN\n",
    "\n",
    "config_path = os.path.join(pretrained_path, 'bert_config.json')\n",
    "checkpoint_path = os.path.join(pretrained_path, 'bert_model.ckpt')\n"
   ]
  },
  {
   "cell_type": "code",
   "execution_count": 6,
   "id": "59c345d1",
   "metadata": {},
   "outputs": [],
   "source": [
    "def build_model_1():\n",
    "    model = load_trained_model_from_checkpoint(config_path,\n",
    "                                                checkpoint_path,\n",
    "                                                training=True,\n",
    "                                                trainable=True,\n",
    "                                                seq_len=SEQ_LEN)\n",
    "    \n",
    "    inputs = model.inputs[:2]\n",
    "    dense = model.layers[-3].output\n",
    "    \n",
    "    outputs = keras.layers.Dense(1, activation='sigmoid', \n",
    "                               kernel_initializer=keras.initializers.TruncatedNormal(stddev=0.02),\n",
    "                              name = 'real_output')(dense)\n",
    "\n",
    "    bert_model = keras.models.Model(inputs, outputs)\n",
    "\n",
    "    return bert_model\n",
    "\n",
    "model_1 = build_model_1()"
   ]
  },
  {
   "cell_type": "code",
   "execution_count": 7,
   "id": "1a78f710",
   "metadata": {},
   "outputs": [],
   "source": [
    "def build_model_2():\n",
    "    model = load_trained_model_from_checkpoint(config_path,\n",
    "                                                checkpoint_path,\n",
    "                                                training=True,\n",
    "                                                trainable=True,\n",
    "                                                seq_len=SEQ_LEN)\n",
    "    \n",
    "    inputs = model.inputs[:2]\n",
    "    dense = model.layers[-3].output\n",
    "    \n",
    "    outputs = keras.layers.Dense(4, activation='softmax', \n",
    "                               kernel_initializer=keras.initializers.TruncatedNormal(stddev=0.02),\n",
    "                              name = 'real_output')(dense)\n",
    "\n",
    "    bert_model = keras.models.Model(inputs, outputs)\n",
    "\n",
    "    return bert_model\n",
    "\n",
    "model_2 = build_model_2()"
   ]
  },
  {
   "cell_type": "code",
   "execution_count": 8,
   "id": "9403ef82",
   "metadata": {},
   "outputs": [],
   "source": [
    "def build_model_3():\n",
    "    model = load_trained_model_from_checkpoint(config_path,\n",
    "                                                checkpoint_path,\n",
    "                                                training=True,\n",
    "                                                trainable=True,\n",
    "                                                seq_len=SEQ_LEN)\n",
    "    \n",
    "    inputs = model.inputs[:2]\n",
    "    dense = model.layers[-3].output\n",
    "    \n",
    "    outputs = keras.layers.Dense(5, activation='softmax', \n",
    "                               kernel_initializer=keras.initializers.TruncatedNormal(stddev=0.02),\n",
    "                              name = 'real_output')(dense)\n",
    "\n",
    "    bert_model = keras.models.Model(inputs, outputs)\n",
    "\n",
    "    return bert_model\n",
    "\n",
    "model_3 = build_model_3()"
   ]
  },
  {
   "cell_type": "code",
   "execution_count": 9,
   "id": "50781573",
   "metadata": {},
   "outputs": [],
   "source": [
    "model_1.load_weights('./saved/model_1_weights.h5')\n",
    "model_2.load_weights('./saved/model_2_weights.h5')\n",
    "model_3.load_weights('./saved/model_3_weights.h5')"
   ]
  },
  {
   "cell_type": "code",
   "execution_count": 10,
   "id": "4490f96c",
   "metadata": {},
   "outputs": [],
   "source": [
    "#본모델 \n",
    "\n",
    "def model_ens_1_and_2(input_x, threshold_min = 0.003, threshold_max = 0.999):\n",
    "    probs = model_1.predict(input_x)\n",
    "    probs_2 = model_2.predict(input_x)\n",
    "    class_dict = {0: '명시적인 언어폭력',\\\n",
    "                1: '일상적인 대화문',\\\n",
    "                2: '암묵적인 갈취 대화',\\\n",
    "                3: '암묵적인 기타 괴롭힘 대화',\\\n",
    "                4: '암묵적인 직장 내 괴롭힘 대화',\\\n",
    "                5: '암묵적인 협박 대화'}\n",
    "    \n",
    "    class_list = []\n",
    "    for i in range(probs.shape[0]):\n",
    "        p1 = probs[i]\n",
    "        print(p1)\n",
    "        if threshold_min < p1 < threshold_max:\n",
    "            p2 = probs_2[i]\n",
    "            print(p2)\n",
    "            label = np.argmax(p2) +2\n",
    "            class_list.append(class_dict[label])\n",
    "            \n",
    "\n",
    "        elif threshold_max <= p1 :\n",
    "            label = 1\n",
    "            class_list.append(class_dict[label])\n",
    "        else :\n",
    "            label = 0\n",
    "            class_list.append(class_dict[label])\n",
    "            \n",
    "            \n",
    "  \n",
    "    preds = np.array(class_list)\n",
    "   \n",
    "  \n",
    "    return print(class_dict[label]+'입니다.')"
   ]
  },
  {
   "cell_type": "code",
   "execution_count": 11,
   "id": "c788d2a1",
   "metadata": {},
   "outputs": [],
   "source": [
    "def model_ens_1_and_3(input_x, threshold = 0.07):\n",
    "    probs = model_1.predict(input_x)\n",
    "    probs_3 = model_3.predict(input_x)\n",
    "    class_dict = {0: '명시적인 언어폭력',\\\n",
    "                1: '암묵적인 갈취 대화',\\\n",
    "                2: '암묵적인 기타 괴롭힘 대화',\\\n",
    "              3: '일상적인 대화문',\\\n",
    "                4: '암묵적인 직장 내 괴롭힘 대화',\\\n",
    "                5: '암묵적인 협박 대화'}\n",
    "    \n",
    "    class_list = []\n",
    "    for i in range(probs.shape[0]):\n",
    "        p1 = probs[i]\n",
    "        print(p1)\n",
    "        if p1 < threshold:\n",
    "            label = 0\n",
    "            class_list.append(class_dict[label])\n",
    "\n",
    "        else :\n",
    "            p3 = probs_3[i]\n",
    "            print(p3)\n",
    "            label = np.argmax(p3) +1\n",
    "            class_list.append(class_dict[label])\n",
    "            \n",
    "  \n",
    "    preds = np.array(class_list)\n",
    "    \n",
    "    return print(class_dict[label]+'입니다.')"
   ]
  },
  {
   "cell_type": "code",
   "execution_count": 12,
   "id": "251763ad",
   "metadata": {},
   "outputs": [],
   "source": [
    "def web_detect_1_2(str): #본모델\n",
    "    \n",
    "    x = string_to_input(str)\n",
    "    model_ens_1_and_2(x)\n",
    "    "
   ]
  },
  {
   "cell_type": "code",
   "execution_count": 13,
   "id": "decebbda",
   "metadata": {},
   "outputs": [],
   "source": [
    "def web_detect_1_3(str): #서브모델\n",
    "    \n",
    "    x = string_to_input(str)\n",
    "    model_ens_1_and_3(x)"
   ]
  },
  {
   "cell_type": "code",
   "execution_count": 15,
   "id": "c59c4a23",
   "metadata": {},
   "outputs": [
    {
     "name": "stderr",
     "output_type": "stream",
     "text": [
      "100%|██████████| 1/1 [00:00<00:00, 966.65it/s]\n"
     ]
    },
    {
     "name": "stdout",
     "output_type": "stream",
     "text": [
      "[0.0120882]\n",
      "[0.6772459  0.16357468 0.12762518 0.03155427]\n",
      "암묵적인 갈취 대화입니다.\n"
     ]
    }
   ],
   "source": [
    "#테스트\n",
    "\n",
    "str = '아 지친다 지쳐. 오늘 너무 덥지 않냐. \\\n",
    "맞아 이제 진짜 여름이다 ㅠㅠ 여름 방학에 뭐 할건데? \\\n",
    "키키 나는 무조건 국내여행 아 저번에 전국 돈다고 했던거? \\\n",
    "ㅇㅇ 완전 기대중임 \\\n",
    "선물사와라 ㅋㅋㅋㅋ \\\n",
    "알쎀ㅋㅋㅋ' #예시\n",
    "web_detect_1_2(str)"
   ]
  },
  {
   "cell_type": "code",
   "execution_count": null,
   "id": "a42914f1",
   "metadata": {},
   "outputs": [],
   "source": []
  }
 ],
 "metadata": {
  "kernelspec": {
   "display_name": "Python 3 (ipykernel)",
   "language": "python",
   "name": "python3"
  },
  "language_info": {
   "codemirror_mode": {
    "name": "ipython",
    "version": 3
   },
   "file_extension": ".py",
   "mimetype": "text/x-python",
   "name": "python",
   "nbconvert_exporter": "python",
   "pygments_lexer": "ipython3",
   "version": "3.9.7"
  }
 },
 "nbformat": 4,
 "nbformat_minor": 5
}
