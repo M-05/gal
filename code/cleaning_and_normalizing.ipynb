{
 "cells": [
  {
   "cell_type": "code",
   "execution_count": null,
   "id": "17d70144",
   "metadata": {},
   "outputs": [],
   "source": [
    "import pandas as pd\n",
    "import re"
   ]
  },
  {
   "cell_type": "code",
   "execution_count": null,
   "id": "35c12799",
   "metadata": {},
   "outputs": [],
   "source": [
    "\n",
    "def preprocess_input(df):\n",
    "    df['conversation'] = df['conversation'].astype(str)\n",
    "\n",
    "    df['conversation'] = df['conversation'].apply(lambda x: re.sub(r'(\\d{1,2}):(\\d{2})', r'\\1시 \\2분', str(x)))\n",
    "    \n",
    "#     df['conversation'] = df['conversation'].apply(lambda x: re.sub(r'(\\d{1,2}):(\\d{2})', r'\\1시 \\2분', x))\n",
    "#     #4:50인 경우 4시 50분으로 바꾸기\n",
    "    \n",
    "    df['conversation'] = df['conversation'].apply(lambda x: re.sub(r'[^\\w\\s.?!]', '', x))\n",
    "    # 문자열, 공백, 온점, 물음표, 느낌표 남기고 삭제\n",
    "    \n",
    "    df['conversation'] = df['conversation'].apply(lambda x: re.sub('_', '', x))\n",
    "    # 언더바 제거\n",
    "    \n",
    "    df['conversation'] = df['conversation'].apply(lambda x: re.sub(r'\\.{2,}|\\?{2,}|\\!{2,}', lambda m: m.group(0)[0], x))\n",
    "    #반복되는 특수문자 제거\n",
    "    \n",
    "    df['conversation'] = df['conversation'].apply(lambda x: re.sub(r'[.?!]*\\?+[.?!]*', '?', x))\n",
    "    # ?!.이 동시에 있을 경우 ?만 남기고 삭제\n",
    "    \n",
    "    df['conversation'] = df['conversation'].apply(lambda x: re.sub(r'[.!]*!', '!', x))\n",
    "    #!.이 동시에 있을 경우 !만 남기고 삭제\n",
    "    \n",
    "    df['conversation'] = df['conversation'].apply(lambda x: re.sub(r'!1+|1+!', '!', x))\n",
    "    # !11111 같은 오타를 !만 남기는 코드\n",
    "    \n",
    "    return df"
   ]
  },
  {
   "cell_type": "code",
   "execution_count": null,
   "id": "118c1da0",
   "metadata": {},
   "outputs": [],
   "source": [
    "\n",
    "def preprocess_df(df):\n",
    "    df['conversation'] = df['conversation'].astype(str)\n",
    "\n",
    "    df['conversation'] = df['conversation'].apply(lambda x: re.sub(r'(\\d{1,2}):(\\d{2})', r'\\1시 \\2분', str(x)))\n",
    "#     df['conversation'] = df['conversation'].apply(lambda x: re.sub(r'(\\d{1,2}):(\\d{2})', r'\\1시 \\2분', x))\n",
    "#     #4:50인 경우 4시 50분으로 바꾸기\n",
    "    \n",
    "    df['conversation'] = df['conversation'].apply(lambda x: re.sub(r'[^\\w\\s.?!<oov>]', '', x))\n",
    "    # 문자열, 공백, 온점, 물음표, 느낌표,<oov> 남기고 삭제\n",
    "    \n",
    "    df['conversation'] = df['conversation'].apply(lambda x: re.sub('_', '', x))\n",
    "    # 언더바 제거\n",
    "    \n",
    "    df['conversation'] = df['conversation'].apply(lambda x: re.sub(r'\\.{2,}|\\?{2,}|\\!{2,}', lambda m: m.group(0)[0], x))\n",
    "    #반복되는 특수문자 제거\n",
    "    \n",
    "    df['conversation'] = df['conversation'].apply(lambda x: re.sub(r'[.?!]*\\?+[.?!]*', '?', x))\n",
    "    # ?!.이 동시에 있을 경우 ?만 남기고 삭제\n",
    "    \n",
    "    df['conversation'] = df['conversation'].apply(lambda x: re.sub(r'[.!]*!', '!', x))\n",
    "    #!.이 동시에 있을 경우 !만 남기고 삭제\n",
    "    \n",
    "    df['conversation'] = df['conversation'].apply(lambda x: re.sub(r'!1+|1+!', '!', x))\n",
    "    # !11111 같은 오타를 !만 남기는 코드\n",
    "    \n",
    "    return df"
   ]
  }
 ],
 "metadata": {
  "kernelspec": {
   "display_name": "Python 3 (ipykernel)",
   "language": "python",
   "name": "python3"
  },
  "language_info": {
   "codemirror_mode": {
    "name": "ipython",
    "version": 3
   },
   "file_extension": ".py",
   "mimetype": "text/x-python",
   "name": "python",
   "nbconvert_exporter": "python",
   "pygments_lexer": "ipython3",
   "version": "3.9.7"
  }
 },
 "nbformat": 4,
 "nbformat_minor": 5
}
