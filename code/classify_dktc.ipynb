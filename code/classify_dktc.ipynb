{
 "cells": [
  {
   "cell_type": "markdown",
   "id": "350e29f9",
   "metadata": {},
   "source": [
    "# classify_dktc"
   ]
  },
  {
   "cell_type": "markdown",
   "id": "cd377c49",
   "metadata": {},
   "source": [
    "predict and evaluation 해서 dktc 데이터를 dktc_exp, dktc_imp 로 결과까지 내어서 데이터 dktc_exp, dktc_imp를 csv 파일로 추출하는 것 까지 실행하기  \n",
    "(threshold를 기준으로 일정 확률 사잇값을 ood: imp 레이블로 추출)"
   ]
  },
  {
   "cell_type": "code",
   "execution_count": null,
   "id": "3f4fff74",
   "metadata": {},
   "outputs": [],
   "source": [
    "# 라이브러리 import 및 주요 라이브러리 버전 확인 \n",
    "import wandb\n",
    "from wandb.keras import WandbCallback\n",
    "\n",
    "import tensorflow as tf\n",
    "\n",
    "import pandas as pd\n",
    "import numpy as np  \n",
    "import re\n",
    "import pickle\n",
    "from sklearn.model_selection import train_test_split\n",
    "\n",
    "import keras as keras\n",
    "from keras.models import load_model\n",
    "from keras import backend as K\n",
    "from keras import Input, Model\n",
    "from keras import optimizers\n",
    "\n",
    "import codecs\n",
    "from tqdm import tqdm\n",
    "import shutil\n",
    "\n",
    "import json\n",
    "\n",
    "import os\n",
    "import warnings\n",
    "\n",
    "warnings.filterwarnings(action='ignore')\n",
    "os.environ['TF_CPP_MIN_LOG_LEVEL'] = '3' \n",
    "# tf.logging.set_verbosity(tf.logging.ERROR)\n",
    "\n",
    "from keras_bert import load_trained_model_from_checkpoint, load_vocabulary\n",
    "from keras_bert import Tokenizer\n",
    "from keras_bert import AdamWarmup, calc_train_steps\n",
    "\n",
    "from keras_radam import RAdam\n",
    "from keras_radam.training import RAdamOptimizer\n",
    "import encoding_korbert as enc"
   ]
  },
  {
   "cell_type": "code",
   "execution_count": null,
   "id": "f2269970",
   "metadata": {},
   "outputs": [],
   "source": [
    "model_extra = tf.keras.models.load_model('./saved/model_extra.h5')"
   ]
  },
  {
   "cell_type": "code",
   "execution_count": null,
   "id": "8fedf993",
   "metadata": {},
   "outputs": [],
   "source": [
    "dktc_df = pd.read_csv(\"./data/merged_dktc_train.csv\", usecols=['class','conversation']) #dktc_train (dktc는 train만 레이블이 달려 있어서 train만 써서 확인해봄)"
   ]
  },
  {
   "cell_type": "code",
   "execution_count": null,
   "id": "d1dbb945",
   "metadata": {},
   "outputs": [],
   "source": [
    "dktc_x, dktc_y = enc.load_data(dktc_df)"
   ]
  },
  {
   "cell_type": "code",
   "execution_count": null,
   "id": "b541f7b8",
   "metadata": {},
   "outputs": [],
   "source": [
    "tensor_dktc = tf.convert_to_tensor(np.array(dktc_x))"
   ]
  },
  {
   "cell_type": "code",
   "execution_count": null,
   "id": "f8b12774",
   "metadata": {},
   "outputs": [],
   "source": [
    "probs = model_extra.predict(x=(tensor_dktc[0,:,:], tensor_dktc[1,:,:]), verbose=1)\n",
    "#p는 확률값들의 배열 (0에 가까울수록 exp 1 에 가까울수록 not)"
   ]
  },
  {
   "cell_type": "code",
   "execution_count": null,
   "id": "880127d2",
   "metadata": {},
   "outputs": [],
   "source": [
    "np.set_printoptions(threshold=np.inf) #넘파이 출력 제어 , threshold=np.inf : 생략없이 출력"
   ]
  },
  {
   "cell_type": "code",
   "execution_count": null,
   "id": "dea02bac",
   "metadata": {},
   "outputs": [],
   "source": [
    "probs #값을 확인하고 threshold_min, threshold_max 정하기"
   ]
  },
  {
   "cell_type": "code",
   "execution_count": null,
   "id": "3a08838f",
   "metadata": {},
   "outputs": [],
   "source": [
    "probs.shape "
   ]
  },
  {
   "cell_type": "markdown",
   "id": "fcd9e31c",
   "metadata": {},
   "source": [
    "### dktc 데이터에서는 'not'이 없다.  \n",
    "### 그래서 1에 가까울수록 not 이다.  \n",
    "### 그러면 일정 값 이상의 확률을 가지는 데이터는 imp로 볼 수 있다."
   ]
  },
  {
   "cell_type": "code",
   "execution_count": null,
   "id": "453026ff",
   "metadata": {},
   "outputs": [],
   "source": [
    "# threshold_min = 0.1\n",
    "threshold_max = 0.85\n",
    "\n",
    "indices = []\n",
    "i=0\n",
    "for p in probs:\n",
    "    if threshold_max<p: \n",
    "        print(p)\n",
    "        indices.append(i)\n",
    "    i+=1\n",
    "            \n",
    "    #(0: exp, 1: not)"
   ]
  },
  {
   "cell_type": "code",
   "execution_count": null,
   "id": "8c631026",
   "metadata": {},
   "outputs": [],
   "source": [
    "indices"
   ]
  },
  {
   "cell_type": "code",
   "execution_count": null,
   "id": "ab715582",
   "metadata": {},
   "outputs": [],
   "source": [
    "np.set_printoptions(threshold=10)\n"
   ]
  },
  {
   "cell_type": "code",
   "execution_count": null,
   "id": "482eefe5",
   "metadata": {},
   "outputs": [],
   "source": [
    "for i in indices:\n",
    "    print(dktc_df['conversation'].iloc[i])\n",
    "    print('====================================================')"
   ]
  },
  {
   "cell_type": "code",
   "execution_count": null,
   "id": "8e3933d0",
   "metadata": {},
   "outputs": [],
   "source": [
    "dktc_imp_df = dktc_df.loc[indices]\n",
    "dktc_exp_df = dktc_df.loc[~dktc_df.index.isin(indices)]"
   ]
  },
  {
   "cell_type": "code",
   "execution_count": null,
   "id": "0f8711a9",
   "metadata": {},
   "outputs": [],
   "source": [
    "dktc_imp_df.to_csv('./data/dktc_imp.csv')\n",
    "dktc_exp_df.to_csv('./data/dktc_exp.csv')"
   ]
  },
  {
   "cell_type": "code",
   "execution_count": null,
   "id": "fc33bbdc",
   "metadata": {},
   "outputs": [],
   "source": []
  }
 ],
 "metadata": {
  "kernelspec": {
   "display_name": "Python 3 (ipykernel)",
   "language": "python",
   "name": "python3"
  },
  "language_info": {
   "codemirror_mode": {
    "name": "ipython",
    "version": 3
   },
   "file_extension": ".py",
   "mimetype": "text/x-python",
   "name": "python",
   "nbconvert_exporter": "python",
   "pygments_lexer": "ipython3",
   "version": "3.9.7"
  }
 },
 "nbformat": 4,
 "nbformat_minor": 5
}
